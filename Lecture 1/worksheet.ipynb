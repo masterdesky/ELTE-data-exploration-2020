{
 "cells": [
  {
   "cell_type": "markdown",
   "metadata": {},
   "source": [
    "# Statistical analysis of water discharge of surface streams\n",
    "\n",
    "Large amounts of historical surface water data are available from the United States Geological Survey (USGS) at https://waterdata.usgs.gov/nwis The goal of the project is to retrieve samples from the web interface manually, and then later  automate the process by calling the web service as described at https://help.waterdata.usgs.gov/faq/automated-retrievals."
   ]
  },
  {
   "cell_type": "code",
   "execution_count": null,
   "metadata": {},
   "outputs": [],
   "source": [
    "import os\n",
    "import json\n",
    "import pickle\n",
    "import datetime\n",
    "import numpy as np\n",
    "import pandas as pd\n",
    "import urllib.request\n",
    "from scipy.signal import argrelextrema\n",
    "\n",
    "import seaborn as sns\n",
    "import matplotlib as mpl\n",
    "import matplotlib.cm as cm\n",
    "import matplotlib.pyplot as plt\n",
    "import matplotlib.ticker as mticker\n",
    "import matplotlib.colors as mcolors\n",
    "from mpl_toolkits.mplot3d import Axes3D\n",
    "\n",
    "from IPython.display import clear_output, display"
   ]
  },
  {
   "cell_type": "code",
   "execution_count": null,
   "metadata": {
    "tags": []
   },
   "outputs": [],
   "source": [
    "DATADIR = './data/'\n",
    "OUTDIR = './out/'\n",
    "figsave_format = 'pdf'\n",
    "figsave_dpi = 200\n",
    "\n",
    "colors = [\n",
    "    'tab:red',\n",
    "    'tab:orange',\n",
    "    'tab:green',\n",
    "    'tab:blue',\n",
    "    'tab:purple'\n",
    "]\n",
    "\n",
    "# Set axtick dimensions\n",
    "major_size = 6\n",
    "major_width = 1.2\n",
    "minor_size = 3\n",
    "minor_width = 1\n",
    "mpl.rcParams['xtick.major.size'] = major_size\n",
    "mpl.rcParams['xtick.major.width'] = major_width\n",
    "mpl.rcParams['xtick.minor.size'] = minor_size\n",
    "mpl.rcParams['xtick.minor.width'] = minor_width\n",
    "mpl.rcParams['ytick.major.size'] = major_size\n",
    "mpl.rcParams['ytick.major.width'] = major_width\n",
    "mpl.rcParams['ytick.minor.size'] = minor_size\n",
    "mpl.rcParams['ytick.minor.width'] = minor_width\n",
    "\n",
    "# Seaborn style settings\n",
    "sns.set_style({'axes.axisbelow': True,\n",
    "               'axes.edgecolor': '.8',\n",
    "               'axes.facecolor': 'white',\n",
    "               'axes.grid': True,\n",
    "               'axes.labelcolor': '.15',\n",
    "               'axes.spines.bottom': True,\n",
    "               'axes.spines.left': True,\n",
    "               'axes.spines.right': True,\n",
    "               'axes.spines.top': True,\n",
    "               'figure.facecolor': 'white',\n",
    "               'font.family': ['sans-serif'],\n",
    "               'font.sans-serif': ['Arial',\n",
    "                'DejaVu Sans',\n",
    "                'Liberation Sans',\n",
    "                'Bitstream Vera Sans',\n",
    "                'sans-serif'],\n",
    "               'grid.color': '.8',\n",
    "               'grid.linestyle': '--',\n",
    "               'image.cmap': 'rocket',\n",
    "               'lines.solid_capstyle': 'round',\n",
    "               'patch.edgecolor': 'w',\n",
    "               'patch.force_edgecolor': True,\n",
    "               'text.color': '.15',\n",
    "               'xtick.bottom': True,\n",
    "               'xtick.color': '.15',\n",
    "               'xtick.direction': 'in',\n",
    "               'xtick.top': True,\n",
    "               'ytick.color': '.15',\n",
    "               'ytick.direction': 'in',\n",
    "               'ytick.left': True,\n",
    "               'ytick.right': True})"
   ]
  },
  {
   "cell_type": "markdown",
   "metadata": {},
   "source": [
    "## Excercise 1\n",
    "\n",
    "For the purposes of the current excercises, select a stream from a rainy area with relatively small discharge so that the effect of short but strong storms is visible. Good choices are small rivers from the north-eastern US, e.g. site 01589440. Retrieve at least 10 years of data."
   ]
  },
  {
   "cell_type": "code",
   "execution_count": null,
   "metadata": {
    "tags": []
   },
   "outputs": [],
   "source": [
    "# Fetch USGS surface water data from the following URL, written in easily readable format\n",
    "#\n",
    "# \"Arguments\":\n",
    "#   - site_no    : Site number of choosen surface water(s)\n",
    "#   - cb_X       : Identifier of requested data parameters\n",
    "#   - period     : Measurement frequency\n",
    "#   - begin_date : Lower lim. of the time interval of the fetched data\n",
    "#   - end_date   : Upper lim. of the time interval of the fetched data\n",
    "#   - format     : [rdb, json], format of the fetched datatable. Current\n",
    "#                  code intents to support only 'rdb' (tab-separated) format\n",
    "# Requested parameters in this instance:\n",
    "# 00060  :  Discharge, cubic feet per second\n",
    "# 00065  :  Gage height, feet\n",
    "data_url = (\n",
    "    'https://nwis.waterdata.usgs.gov/usa/nwis/uv/?'\n",
    "  + 'site_no=01585500' + '&'\n",
    "  + 'cb_00060=on' + '&'\n",
    "  + 'cb_00065=on' + '&'\n",
    "  + 'period=' + '&'\n",
    "  + 'begin_date=2008-01-01' + '&'\n",
    "  + 'end_date=2018-12-31' + '&'\n",
    "  + 'format=rdb'\n",
    ")"
   ]
  },
  {
   "cell_type": "code",
   "execution_count": null,
   "metadata": {
    "tags": []
   },
   "outputs": [],
   "source": [
    "data_url"
   ]
  },
  {
   "cell_type": "code",
   "execution_count": null,
   "metadata": {
    "tags": []
   },
   "outputs": [],
   "source": [
    "dump_fname = DATADIR + 'data.p'\n",
    "\n",
    "# If pickled data exist, then load it\n",
    "# Else fetch it from URL\n",
    "if not os.path.exists(dump_fname):\n",
    "\n",
    "    # The header of the 'rdb' formatted data files contain X+N lines of comments\n",
    "    # in their headers, where\n",
    "    #    - X : General notes, containing information about the fetched site(s)\n",
    "    #    - N : Number of fetched data parameters (# of cb_X)\n",
    "    # The first line after the comments is the actual header (column names) of the\n",
    "    # data table.\n",
    "    # There is also a trailing row after this line, which should be omitted.\n",
    "    with urllib.request.urlopen(data_url) as url:\n",
    "        data = pd.read_csv(url, sep='\\t', comment='#', header=0, skiprows=[30], parse_dates=[2])\n",
    "        \n",
    "    with open(dump_fname, 'wb') as f:\n",
    "        pickle.dump(data, f)\n",
    "\n",
    "else:\n",
    "    with open(dump_fname, 'rb') as f:\n",
    "        data = pickle.load(f)"
   ]
  },
  {
   "cell_type": "markdown",
   "metadata": {},
   "source": [
    "## Excercise 2\n",
    "\n",
    "Load the downloaded data file into the processing environment paying attention to handling time stamps and perfoming the necessary data type conversions. Converting dates to floating point numbers such as unix time stamp or julian date usually makes handling time series easier. Plot the data for a certain interval to show that the effect of storms is clearly visible."
   ]
  },
  {
   "cell_type": "code",
   "execution_count": null,
   "metadata": {},
   "outputs": [],
   "source": [
    "import matplotlib.dates as mdates\n",
    "\n",
    "# FUTURE WARNING: EXPLICIT CONVERTER DECLARATION REQUIRED\n",
    "# WHEN PLOTTING 'DATETIMES' FROM PANDAS DATAFRAMES\n",
    "# USING MATPLOTLIB\n",
    "from pandas.plotting import register_matplotlib_converters\n",
    "register_matplotlib_converters()\n",
    "\n",
    "# Format displayed ticks as years\n",
    "years_fmt = mdates.DateFormatter('%Y')"
   ]
  },
  {
   "cell_type": "markdown",
   "metadata": {},
   "source": [
    "### Discharge rates"
   ]
  },
  {
   "cell_type": "code",
   "execution_count": null,
   "metadata": {},
   "outputs": [],
   "source": [
    "nrows = 2\n",
    "ncols = 1\n",
    "fig, axes = plt.subplots(nrows=nrows, ncols=ncols, figsize=(ncols*15, nrows*8))\n",
    "\n",
    "axisticksize = 17\n",
    "axislabelsize = 22\n",
    "scattersize = 1.5\n",
    "\n",
    "axes[0].scatter(data['datetime'], data['69679_00060'],\n",
    "                c='tab:blue', s=scattersize**2, alpha=0.4)\n",
    "\n",
    "axes[1].scatter(data['datetime'], data['69679_00060'],\n",
    "                c='tab:blue', s=scattersize**2, alpha=0.4)\n",
    "axes[1].set_yscale('log')\n",
    "\n",
    "for i in range(nrows):\n",
    "    axes[i].set_xlabel('Year', fontsize=axislabelsize)\n",
    "    axes[i].set_ylabel('Discharge [$ft^{3}/s$]', fontsize=axislabelsize)\n",
    "    axes[i].tick_params(axis='both', which='major', labelsize=axisticksize)\n",
    "\n",
    "    # Rotate dates on axis\n",
    "    axes[i].tick_params(axis='x', which='major', rotation=42)\n",
    "\n",
    "    # DATE FORMATTING SOURCE:\n",
    "    #   - https://matplotlib.org/gallery/text_labels_and_annotations/date.html\n",
    "    # Format the ticks by calling the locator instances of matplotlib.dates\n",
    "    axes[i].xaxis.set_major_locator(mdates.YearLocator())\n",
    "    axes[i].xaxis.set_major_formatter(years_fmt)\n",
    "    axes[i].xaxis.set_minor_locator(mdates.MonthLocator())\n",
    "    \n",
    "plt.show()"
   ]
  },
  {
   "cell_type": "markdown",
   "metadata": {},
   "source": [
    "#### Split dataset into N equal slices"
   ]
  },
  {
   "cell_type": "code",
   "execution_count": null,
   "metadata": {},
   "outputs": [],
   "source": [
    "nrows = 2\n",
    "ncols = 1\n",
    "fig, axes = plt.subplots(nrows=nrows, ncols=ncols, figsize=(ncols*15, nrows*8))\n",
    "\n",
    "axisticksize = 17\n",
    "axislabelsize = 22\n",
    "scattersize = 1.5\n",
    "\n",
    "dt = data['datetime'].max() - data['datetime'].min()\n",
    "ts0 = data['datetime'].min()\n",
    "split = dt//nrows\n",
    "\n",
    "for i in range(nrows):\n",
    "    tsB = ts0 + i * split\n",
    "    tsE = ts0 + (i+1) * split\n",
    "    current_data = data[(data.datetime >= tsB) & (data.datetime < tsE)]\n",
    "    axes[i].scatter(current_data['datetime'], current_data['69679_00060'],\n",
    "                    c='tab:blue', s=scattersize**2, alpha=0.4)\n",
    "    axes[i].set_yscale('log')\n",
    "    axes[i].set_ylim(None, 1.1 * data['69679_00060'].max())\n",
    "\n",
    "    axes[i].set_xlabel('Year', fontsize=axislabelsize)\n",
    "    axes[i].set_ylabel('Discharge [$ft^{3}/s$]', fontsize=axislabelsize)\n",
    "    axes[i].tick_params(axis='both', which='major', labelsize=axisticksize)\n",
    "\n",
    "    # Rotate dates on axis\n",
    "    axes[i].tick_params(axis='x', which='major', rotation=42)\n",
    "    \n",
    "    # DATE FORMATTING SOURCE:\n",
    "    #   - https://matplotlib.org/gallery/text_labels_and_annotations/date.html\n",
    "    # Format the ticks by calling the locator instances of matplotlib.dates\n",
    "    # These locators should be called for every axis, that's why\n",
    "    # they're placed inside this loop\n",
    "    axes[i].xaxis.set_major_locator(mdates.YearLocator())\n",
    "    axes[i].xaxis.set_major_formatter(years_fmt)\n",
    "    axes[i].xaxis.set_minor_locator(mdates.MonthLocator())\n",
    "\n",
    "plt.show()"
   ]
  },
  {
   "cell_type": "markdown",
   "metadata": {},
   "source": [
    "### Gage height"
   ]
  },
  {
   "cell_type": "code",
   "execution_count": null,
   "metadata": {},
   "outputs": [],
   "source": [
    "nrows = 2\n",
    "ncols = 1\n",
    "fig, axes = plt.subplots(nrows=nrows, ncols=ncols, figsize=(ncols*15, nrows*8))\n",
    "\n",
    "axisticksize = 17\n",
    "axislabelsize = 22\n",
    "scattersize = 1.3\n",
    "\n",
    "axes[0].scatter(data['datetime'], data['69680_00065'],\n",
    "                c='tab:blue', s=scattersize**2, alpha=0.4)\n",
    "\n",
    "axes[1].scatter(data['datetime'], data['69680_00065'],\n",
    "                c='tab:blue', s=scattersize**2, alpha=0.4)\n",
    "axes[1].set_yscale('log')\n",
    "\n",
    "for i in range(nrows):\n",
    "    axes[i].set_xlabel('Year', fontsize=axislabelsize)\n",
    "    axes[i].set_ylabel('Gage height [$ft$]', fontsize=axislabelsize)\n",
    "    axes[i].tick_params(axis='both', which='major', labelsize=axisticksize)\n",
    "    axes[i].tick_params(axis='both', which='minor', labelsize=axisticksize-2)\n",
    "\n",
    "    # Rotate dates on axis\n",
    "    axes[i].tick_params(axis='x', which='major', rotation=42)\n",
    "    \n",
    "    # DATE FORMATTING SOURCE:\n",
    "    #   - https://matplotlib.org/gallery/text_labels_and_annotations/date.html\n",
    "    # Format the ticks by calling the locator instances of matplotlib.dates\n",
    "    axes[i].xaxis.set_major_locator(mdates.YearLocator())\n",
    "    axes[i].xaxis.set_major_formatter(years_fmt)\n",
    "    axes[i].xaxis.set_minor_locator(mdates.MonthLocator())\n",
    "    \n",
    "    if i == 1:\n",
    "        axes[i].set_ylim(1, None)\n",
    "        # Turn off scientific notations, which looked here unbearingly retarded\n",
    "        # Pretty much helpful thread:\n",
    "        #   - https://stackoverflow.com/questions/21920233/\n",
    "        axes[i].yaxis.set_major_formatter(mticker.ScalarFormatter())\n",
    "        axes[i].yaxis.set_minor_formatter(mticker.ScalarFormatter())\n",
    "    \n",
    "plt.show()"
   ]
  },
  {
   "cell_type": "markdown",
   "metadata": {},
   "source": [
    "#### Split dataset into N equal slices"
   ]
  },
  {
   "cell_type": "code",
   "execution_count": null,
   "metadata": {},
   "outputs": [],
   "source": [
    "nrows = 2\n",
    "ncols = 1\n",
    "fig, axes = plt.subplots(nrows=nrows, ncols=ncols, figsize=(ncols*15, nrows*8))\n",
    "\n",
    "axisticksize = 17\n",
    "axislabelsize = 22\n",
    "scattersize = 1.3\n",
    "\n",
    "# Sliceing the data into equal time intervals\n",
    "dt = data['datetime'].max() - data['datetime'].min()\n",
    "ts0 = data['datetime'].min()\n",
    "split = dt//nrows\n",
    "\n",
    "for i in range(nrows):\n",
    "    tsB = ts0 + i * split\n",
    "    tsE = ts0 + (i+1) * split\n",
    "    current_data = data[(data.datetime >= tsB) & (data.datetime < tsE)]\n",
    "    axes[i].scatter(current_data['datetime'], current_data['69680_00065'],\n",
    "                    c='tab:blue', s=scattersize**2, alpha=0.4)\n",
    "    axes[i].set_yscale('log')\n",
    "    axes[i].set_ylim(1, 1.1 * data['69680_00065'].max())\n",
    "\n",
    "    axes[i].set_xlabel('Year', fontsize=axislabelsize)\n",
    "    axes[i].set_ylabel('Gage height [$ft$]', fontsize=axislabelsize)\n",
    "    axes[i].tick_params(axis='both', which='major', labelsize=axisticksize)\n",
    "    axes[i].tick_params(axis='both', which='minor', labelsize=axisticksize-2)\n",
    "\n",
    "    # Rotate dates on axis\n",
    "    axes[i].tick_params(axis='x', which='major', rotation=42)\n",
    "    \n",
    "    # DATE FORMATTING SOURCE:\n",
    "    #   - https://matplotlib.org/gallery/text_labels_and_annotations/date.html\n",
    "    # Format the ticks by calling the locator instances of matplotlib.dates\n",
    "    axes[i].xaxis.set_major_locator(mdates.YearLocator())\n",
    "    axes[i].xaxis.set_major_formatter(years_fmt)\n",
    "    axes[i].xaxis.set_minor_locator(mdates.MonthLocator())\n",
    "    \n",
    "    # Turn off scientific notations, which looked here \"unbearingly\" retarded\n",
    "    # Pretty much helpful thread:\n",
    "    #   - https://stackoverflow.com/questions/21920233/\n",
    "    axes[i].yaxis.set_major_formatter(mticker.ScalarFormatter())\n",
    "    axes[i].yaxis.set_minor_formatter(mticker.ScalarFormatter())\n",
    "\n",
    "plt.show()"
   ]
  },
  {
   "cell_type": "markdown",
   "metadata": {},
   "source": [
    "## Excercise 3\n",
    "\n",
    "Plot the histogram of water discharge values. Fit the data with an appropriate distribution function and bring arguments in favor of the choice of function."
   ]
  },
  {
   "cell_type": "code",
   "execution_count": null,
   "metadata": {},
   "outputs": [],
   "source": [
    "nrows = 1\n",
    "ncols = 1\n",
    "fig, axes = plt.subplots(nrows=nrows, ncols=ncols, figsize=(ncols*15, nrows*8))\n",
    "\n",
    "axisticksize = 17\n",
    "axislabelsize = 22\n",
    "scattersize = 1.3\n",
    "\n",
    "hist, bins = np.histogram(data['69679_00060'], bins=35, range=(0,400), density=True)\n",
    "axes.loglog(bins[:-1], hist, 'bo')\n",
    "\n",
    "axes.set_xlabel('Discharge [$ft^{3}/s$]', fontsize=axislabelsize)\n",
    "axes.set_ylabel('Counts [n]', fontsize=axislabelsize)\n",
    "axes.tick_params(axis='both', which='major', labelsize=axisticksize)\n",
    "axes.tick_params(axis='both', which='minor', labelsize=axisticksize-2)\n",
    "\n",
    "# Rotate dates on axis\n",
    "axes.tick_params(axis='x', which='major', rotation=42)\n",
    "\n",
    "plt.show()"
   ]
  },
  {
   "cell_type": "markdown",
   "metadata": {},
   "source": [
    "### Phase space"
   ]
  },
  {
   "cell_type": "code",
   "execution_count": null,
   "metadata": {},
   "outputs": [],
   "source": [
    "nrows = 1\n",
    "ncols = 1\n",
    "fig, axes = plt.subplots(nrows=nrows, ncols=ncols, figsize=(ncols*14, nrows*14))\n",
    "\n",
    "axisticksize = 25\n",
    "axislabelsize = 30\n",
    "scattersize = 4\n",
    "\n",
    "axes.scatter(data['69679_00060'].values, data['69680_00065'].values,\n",
    "             c='tab:blue', s=scattersize**2, alpha=0.4)\n",
    "\n",
    "axes.set_xscale('log')\n",
    "axes.set_yscale('log')\n",
    "\n",
    "axes.set_xlabel('Discharge [$ft^{3}/s$]', fontsize=axislabelsize)\n",
    "axes.set_ylabel('Gage height [$ft$]', fontsize=axislabelsize)\n",
    "axes.tick_params(axis='both', which='major', labelsize=axisticksize)\n",
    "axes.tick_params(axis='both', which='minor', labelsize=axisticksize-2)\n",
    "\n",
    "# Turn off scientific notations, which looked here \"unbearingly\" retarded\n",
    "# Pretty much helpful thread:\n",
    "#   - https://stackoverflow.com/questions/21920233/\n",
    "axes.xaxis.set_major_formatter(mticker.ScalarFormatter())\n",
    "axes.yaxis.set_major_formatter(mticker.ScalarFormatter())\n",
    "axes.yaxis.set_minor_formatter(mticker.ScalarFormatter())\n",
    "\n",
    "plt.show()"
   ]
  },
  {
   "cell_type": "markdown",
   "metadata": {},
   "source": [
    "## Excercise 4\n",
    "\n",
    "In case of small streams, storms and passing weather fronts with rain can significantly increase water discharge on a short time scale. Develop a simple algorithm to detect rainy events in the data. Plot the original time series and mark rainy events."
   ]
  },
  {
   "cell_type": "markdown",
   "metadata": {},
   "source": [
    "Sadly this works very poorly :("
   ]
  },
  {
   "cell_type": "code",
   "execution_count": null,
   "metadata": {},
   "outputs": [],
   "source": [
    "nrows = 4\n",
    "ncols = 1\n",
    "fig, axes = plt.subplots(nrows=nrows, ncols=ncols, figsize=(ncols*15, nrows*8))\n",
    "\n",
    "axisticksize = 17\n",
    "axislabelsize = 22\n",
    "scattersize = 1.5\n",
    "\n",
    "dt = data['datetime'].max() - data['datetime'].min()\n",
    "ts0 = data['datetime'].min()\n",
    "split = dt//nrows\n",
    "\n",
    "for i in range(nrows):\n",
    "    tsB = ts0 + i * split\n",
    "    tsE = ts0 + (i+1) * split\n",
    "    current_data = data[(data.datetime >= tsB) & (data.datetime < tsE)]\n",
    "    axes[i].scatter(current_data['datetime'], current_data['69679_00060'],\n",
    "                    c='tab:blue', s=scattersize**2, alpha=0.4)\n",
    "    \n",
    "    # Calculate local maximums and plot them on the axis\n",
    "    # with scipy's 'argrelextrema' function\n",
    "    maxima_indeces = argrelextrema(current_data['69679_00060'].values, np.greater, order=20)\n",
    "    maxima_dates = current_data['datetime'].iloc[maxima_indeces[0]]\n",
    "    maxima_discharges = current_data['69679_00060'].iloc[maxima_indeces[0]]\n",
    "    axes[i].scatter(maxima_dates, maxima_discharges,\n",
    "                    marker='x', c='tab:red', s=(4*scattersize)**2, alpha=1.0)\n",
    "    \n",
    "    axes[i].set_yscale('log')\n",
    "    axes[i].set_ylim(None, 1.1 * data['69679_00060'].max())\n",
    "\n",
    "    axes[i].set_xlabel('Year', fontsize=axislabelsize)\n",
    "    axes[i].set_ylabel('Discharge [$ft^{3}/s$]', fontsize=axislabelsize)\n",
    "    axes[i].tick_params(axis='both', which='major', labelsize=axisticksize)\n",
    "\n",
    "    # Rotate dates on axis\n",
    "    axes[i].tick_params(axis='x', which='major', rotation=42)\n",
    "    \n",
    "    # DATE FORMATTING SOURCE:\n",
    "    #   - https://matplotlib.org/gallery/text_labels_and_annotations/date.html\n",
    "    # Format the ticks by calling the locator instances of matplotlib.dates\n",
    "    # These locators should be called for every axis, that's why\n",
    "    # they're placed inside this loop\n",
    "    axes[i].xaxis.set_major_locator(mdates.YearLocator())\n",
    "    axes[i].xaxis.set_major_formatter(years_fmt)\n",
    "    axes[i].xaxis.set_minor_locator(mdates.MonthLocator())\n",
    "\n",
    "plt.show()"
   ]
  },
  {
   "cell_type": "markdown",
   "metadata": {},
   "source": [
    "## Excercise 5\n",
    "\n",
    "Water discharge increases significantly during rain producing maxima in the time series. Plot the distribution of maximum values and fit with an appropriate function. Bring arguments to support the choice of probabilistic model."
   ]
  },
  {
   "cell_type": "code",
   "execution_count": null,
   "metadata": {},
   "outputs": [],
   "source": []
  },
  {
   "cell_type": "markdown",
   "metadata": {},
   "source": [
    "## Excercise 6\n",
    "\n",
    "Once rainy events are detected, plot the distribution of the length of sunny intervals between rains. Fit the distribution with an appropriate function."
   ]
  },
  {
   "cell_type": "code",
   "execution_count": null,
   "metadata": {},
   "outputs": [],
   "source": []
  },
  {
   "cell_type": "markdown",
   "metadata": {},
   "source": [
    "## Excercise 7\n",
    "\n",
    "What is the maximum of water discharge in an arbitrarily chosen period of one year? Calculate the maximum of water discharge due to rain in a rolling window of 1 year, plot its distribution and fit with an appropriate function."
   ]
  },
  {
   "cell_type": "code",
   "execution_count": null,
   "metadata": {},
   "outputs": [],
   "source": [
    "# Calculate full time interval for rolling windows\n",
    "dt = datetime.timedelta(days=365)\n",
    "# Cut last 365 day period from original dataset\n",
    "fw_data = data[(data['datetime'] < data['datetime'].max() - dt)][::100]\n",
    "num_points = len(fw_data)\n",
    "\n",
    "# Values to store maximum values in windows\n",
    "max_data = np.zeros(num_points)\n",
    "\n",
    "for idx, row_idx in enumerate(fw_data.index):\n",
    "    t_0 = fw_data.loc[row_idx]['datetime']\n",
    "    t_1 = t_0 + dt\n",
    "    current_data = fw_data[(fw_data.datetime >= t_0) & (fw_data.datetime < t_1)]\n",
    "    max_data[idx] = np.max(current_data['69680_00065'].values)"
   ]
  },
  {
   "cell_type": "code",
   "execution_count": null,
   "metadata": {},
   "outputs": [],
   "source": [
    "nrows = 1\n",
    "ncols = 1\n",
    "fig, axes = plt.subplots(nrows=nrows, ncols=ncols, figsize=(ncols*15, nrows*8))\n",
    "\n",
    "axisticksize = 17\n",
    "axislabelsize = 22\n",
    "\n",
    "axes.scatter(fw_data['datetime'], max_data,\n",
    "                c='tab:blue', s=scattersize**2, alpha=0.4)\n",
    "axes.set_yscale('log')\n",
    "axes.set_ylim(1, 1.1 * fw_data['69680_00065'].max())\n",
    "\n",
    "axes.set_xlabel('Year', fontsize=axislabelsize)\n",
    "axes.set_ylabel('Discharge [$ft^{3}/s$]', fontsize=axislabelsize)\n",
    "axes.tick_params(axis='both', which='major', labelsize=axisticksize)\n",
    "\n",
    "# Rotate dates on axis\n",
    "axes.tick_params(axis='x', which='major', rotation=42)\n",
    "\n",
    "# DATE FORMATTING SOURCE:\n",
    "#   - https://matplotlib.org/gallery/text_labels_and_annotations/date.html\n",
    "# Format the ticks by calling the locator instances of matplotlib.dates\n",
    "axes.xaxis.set_major_locator(mdates.YearLocator())\n",
    "axes.xaxis.set_major_formatter(years_fmt)\n",
    "axes.xaxis.set_minor_locator(mdates.MonthLocator())\n",
    "\n",
    "# Turn off scientific notations, which looked here unbearingly retarded\n",
    "# Pretty much helpful thread:\n",
    "#   - https://stackoverflow.com/questions/21920233/\n",
    "axes.yaxis.set_major_formatter(mticker.ScalarFormatter())\n",
    "axes.yaxis.set_minor_formatter(mticker.ScalarFormatter())\n",
    "\n",
    "plt.show()"
   ]
  },
  {
   "cell_type": "markdown",
   "metadata": {},
   "source": [
    "## Excercise 8\n",
    "\n",
    "How many time does it rain in a month? Calculate and plot the distribution and fit with an appropriate function."
   ]
  },
  {
   "cell_type": "code",
   "execution_count": null,
   "metadata": {},
   "outputs": [],
   "source": []
  },
  {
   "cell_type": "markdown",
   "metadata": {},
   "source": [
    "## Excercise 9\n",
    "\n",
    "Find the measuring station you used in the excercises above on the map. Find another measurement station about 100-200 miles from it and download the data. Try to estimate the typical time it takes for weather fronts to travel the distance between the two measuring stations."
   ]
  },
  {
   "cell_type": "code",
   "execution_count": null,
   "metadata": {},
   "outputs": [],
   "source": []
  }
 ],
 "metadata": {
  "kernelspec": {
   "display_name": "Python 3 (ipykernel)",
   "language": "python",
   "name": "python3"
  },
  "language_info": {
   "codemirror_mode": {
    "name": "ipython",
    "version": 3
   },
   "file_extension": ".py",
   "mimetype": "text/x-python",
   "name": "python",
   "nbconvert_exporter": "python",
   "pygments_lexer": "ipython3",
   "version": "3.9.10"
  },
  "varInspector": {
   "cols": {
    "lenName": 16,
    "lenType": 16,
    "lenVar": 40
   },
   "kernels_config": {
    "python": {
     "delete_cmd_postfix": "",
     "delete_cmd_prefix": "del ",
     "library": "var_list.py",
     "varRefreshCmd": "print(var_dic_list())"
    },
    "r": {
     "delete_cmd_postfix": ") ",
     "delete_cmd_prefix": "rm(",
     "library": "var_list.r",
     "varRefreshCmd": "cat(var_dic_list()) "
    }
   },
   "types_to_exclude": [
    "module",
    "function",
    "builtin_function_or_method",
    "instance",
    "_Feature"
   ],
   "window_display": false
  }
 },
 "nbformat": 4,
 "nbformat_minor": 4
}
