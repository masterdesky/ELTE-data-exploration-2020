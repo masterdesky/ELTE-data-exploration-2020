{
 "cells": [
  {
   "cell_type": "markdown",
   "metadata": {},
   "source": [
    "# Querying SQL databases\n",
    "\n",
    "Your task is to analyze game and player statistics from the NBA 2008-2009 season provided as a relational database of play-by-play data.\n",
    "\n",
    "You cannot use jupyter to execute the queries. To write and test the queries, use the web interface at http://vo.elte.hu/basketball/. Copy queries into the worksheet for submission."
   ]
  },
  {
   "cell_type": "markdown",
   "metadata": {},
   "source": [
    "## Excercise 1 - Simple queries\n",
    "\n",
    "a) List all teams playing in the league during the season\n",
    "\n",
    "b) List teams in alphabetic order but division by division\n",
    "\n",
    "c) Count the number of persons/players in the league"
   ]
  },
  {
   "cell_type": "markdown",
   "metadata": {},
   "source": [
    "### queries\n",
    "a)\n",
    "```sql\n",
    "SELECT * FROM dbo.team;\n",
    "```\n",
    "\n",
    "b)\n",
    "```sql\n",
    "SELECT * FROM dbo.division\n",
    "ORDER BY name ASC; \n",
    "```\n",
    "\n",
    "c)\n",
    "```sql\n",
    "SELECT COUNT(*) FROM dbo.player;\n",
    "```"
   ]
  },
  {
   "cell_type": "markdown",
   "metadata": {},
   "source": [
    "## Excercise 2 - Simple joins\n",
    "\n",
    "a) List teams by division, including the division name\n",
    "\n",
    "b) List players by team including the uniform number"
   ]
  },
  {
   "cell_type": "markdown",
   "metadata": {},
   "source": [
    "### queries\n",
    "a)\n",
    "```sql\n",
    "SELECT d.id, d.name, t.division_id, t.name\n",
    "FROM dbo.division d, dbo.team t\n",
    "WHERE d.id == t.division_id\n",
    "ORDER BY d.name;\n",
    "```\n",
    "\n",
    "b)\n",
    "```sql\n",
    "SELECT t.name, ps.name, ps.age, pl.team_id\n",
    "FROM dbo.person ps\n",
    "JOIN dbo.player pl ON ps.id = pl.person_id\n",
    "FULL JOIN dbo.team t ON pl.team_id = t.id\n",
    "ORDER BY t.name ASC;\n",
    "```"
   ]
  },
  {
   "cell_type": "markdown",
   "metadata": {},
   "source": [
    "## Excercise 3 - Simple aggregation\n",
    "\n",
    "a) Count number of persons playing for a given team\n",
    "\n",
    "b) List all teams along with the number of players\n",
    "\n",
    "c) Count the number of teams a given person played for\n",
    "\n",
    "d) List all players along with the number of teams they played for\n",
    "\n",
    "e) List players who played for more than two teams during the season"
   ]
  },
  {
   "cell_type": "markdown",
   "metadata": {},
   "source": [
    "### queries"
   ]
  },
  {
   "cell_type": "markdown",
   "metadata": {},
   "source": [
    "a)\n",
    "\n",
    "#### List teams:\n",
    "```sql\n",
    "SELECT t.name\n",
    "FROM dbo.team t;\n",
    "```\n",
    "\n",
    "#### List players in teams:\n",
    "```sql\n",
    "SELECT ps.name, ps.age, pl.team_id, t.name\n",
    "FROM dbo.person ps\n",
    "JOIN dbo.player pl\n",
    "  ON ps.id = pl.person_id\n",
    "FULL JOIN dbo.team t\n",
    "  ON pl.team_id = t.id\n",
    "ORDER BY ps.id ASC;\n",
    "```\n",
    "\n",
    "#### Count players in one of them\n",
    "```sql\n",
    "DECLARE @team varchar(40)\n",
    "SET @team = '[TEAM_NAME]'\n",
    "\n",
    "SELECT @team AS 'Team name', COUNT(*) AS 'Player count'\n",
    "FROM dbo.team t\n",
    "LEFT JOIN dbo.player pl\n",
    "  ON pl.team_id = t.id\n",
    "WHERE t.name = @team;\n",
    "```"
   ]
  },
  {
   "cell_type": "markdown",
   "metadata": {},
   "source": [
    "b)\n",
    "#### Count player number in all teams\n",
    "```sql\n",
    "SELECT t.name AS 'Team name', COUNT(pl.id) AS 'Player count'\n",
    "FROM dbo.team t\n",
    "LEFT JOIN dbo.player pl\n",
    "  ON pl.team_id = t.id\n",
    "GROUP BY t.name;\n",
    "```"
   ]
  },
  {
   "cell_type": "markdown",
   "metadata": {},
   "source": [
    "c)\n",
    "#### List all players with player IDs\n",
    "```sql\n",
    "SELECT ps.name, pl.person_id, pl.team_id\n",
    "FROM dbo.player pl\n",
    "LEFT JOIN dbo.person ps\n",
    "  ON pl.person_id = ps.id\n",
    "ORDER BY ps.name ASC;\n",
    "```\n",
    "#### List team count for specific player\n",
    "```sql\n",
    "DECLARE @person varchar(40)\n",
    "SET @person = '[PERSON_NAME]'\n",
    "\n",
    "SELECT ps.name AS 'Player name', COUNT(pl.person_id) AS 'Team count'\n",
    "FROM dbo.player pl\n",
    "LEFT JOIN dbo.person ps\n",
    "  ON pl.person_id = ps.id\n",
    "WHERE ps.name = @person\n",
    "GROUP BY ps.name;\n",
    "```"
   ]
  },
  {
   "cell_type": "markdown",
   "metadata": {},
   "source": [
    "d)\n",
    "#### List team count for all players\n",
    "\n",
    "```sql\n",
    "SELECT ps.name AS 'Player name', COUNT(pl.person_id) AS 'Team count'\n",
    "FROM dbo.player pl\n",
    "LEFT JOIN dbo.person ps\n",
    "  ON pl.person_id = ps.id\n",
    "GROUP BY ps.name;\n",
    "```"
   ]
  },
  {
   "cell_type": "markdown",
   "metadata": {},
   "source": [
    "e)\n",
    "#### List players who played for more than N teams during the season\n",
    "\n",
    "```sql\n",
    "DECLARE @N int\n",
    "SET @N = 2\n",
    "\n",
    "SELECT ps.name AS 'Player name', COUNT(pl.person_id) AS 'Team count'\n",
    "FROM dbo.player pl\n",
    "LEFT JOIN dbo.person ps\n",
    "  ON pl.person_id = ps.id\n",
    "GROUP BY ps.name\n",
    "HAVING COUNT(pl.person_id) > @N\n",
    "```"
   ]
  },
  {
   "cell_type": "markdown",
   "metadata": {},
   "source": [
    "## Excercise 4 - More complex queries with set operations and common table expressions\n",
    "\n",
    "a) Pick a game and list all field shots and free throw attempts, including points\n",
    "\n",
    "b) Combine the previous two into a single table and only show successful attempts\n",
    "\n",
    "c) Take previous query and sum all points by team so that end result is available\n",
    "\n",
    "d) Remove filter on game and get end result of each game during season\n",
    "\n",
    "e) Modify the previous query to return a single line per game, with home team and away team points"
   ]
  },
  {
   "cell_type": "markdown",
   "metadata": {},
   "source": [
    "### queries\n",
    "\n",
    "a)\n",
    "\n",
    "#### Select a game and list infos about requested shots\n",
    "```sql\n",
    "DECLARE @id int\n",
    "SET @id = 1\n",
    "\n",
    "SELECT s.game_id, s.cntr, s.type, s.team_id\n",
    "FROM dbo.shot s\n",
    "WHERE s.game_id = @id;\n",
    "\n",
    "```"
   ]
  },
  {
   "cell_type": "markdown",
   "metadata": {},
   "source": [
    "b)\n",
    "#### List only successful attempts\n",
    "```sql\n",
    "\n",
    "```"
   ]
  },
  {
   "cell_type": "markdown",
   "metadata": {},
   "source": [
    "## Excercise 5 - a rather complex example\n",
    "\n",
    "a)  Print season results by division. For each team, calculate with a **single_ query**\n",
    "\n",
    "- number of games played\n",
    "- wins\n",
    "- losts\n",
    "- winning percentage\n",
    "\n",
    "Compare with https://en.wikipedia.org/wiki/2008–09_NBA_season#By_division"
   ]
  },
  {
   "cell_type": "code",
   "execution_count": null,
   "metadata": {
    "tags": []
   },
   "outputs": [],
   "source": [
    "# query"
   ]
  }
 ],
 "metadata": {
  "kernelspec": {
   "display_name": "Python 3 (ipykernel)",
   "language": "python",
   "name": "python3"
  },
  "language_info": {
   "codemirror_mode": {
    "name": "ipython",
    "version": 3
   },
   "file_extension": ".py",
   "mimetype": "text/x-python",
   "name": "python",
   "nbconvert_exporter": "python",
   "pygments_lexer": "ipython3",
   "version": "3.9.10"
  }
 },
 "nbformat": 4,
 "nbformat_minor": 4
}
