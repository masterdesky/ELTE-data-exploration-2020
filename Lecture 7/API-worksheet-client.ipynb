{
 "cells": [
  {
   "cell_type": "markdown",
   "metadata": {},
   "source": [
    "# Create an API and a Client -- Client side\n",
    "## Create an API and a Client\n",
    "\n",
    "Create an API with 5 endpoints:\n",
    "* */help* returns with the help/usage of the other 4 endpoints\n",
    "* 1 endpoint, where one needs to use arguments (key/value pairs)\n",
    "* 1 endpoint, which returns some data in json format. Either the json should contain a description of what the data is or it should be defined in the /help\n",
    "* 1 endpoint, which adds extra data to the existing dataset\n",
    "* 1 endpoint, which replaces data in the existing dataset\n",
    "\n",
    "The Client should request data from the server and create a table or plot from it.\n",
    "\n",
    "You can use any dataset for this task. \n",
    "E.g. `/home/course/Datasets/owld-datasets/datasets`\n",
    "\n",
    "You have to prepare for errors or for non-valid queries and need to notify the client about the source of the error!"
   ]
  },
  {
   "cell_type": "code",
   "execution_count": 1,
   "metadata": {},
   "outputs": [],
   "source": [
    "import requests, os"
   ]
  },
  {
   "cell_type": "code",
   "execution_count": 2,
   "metadata": {},
   "outputs": [],
   "source": [
    "api_url = 'https://kooplex-edu.elte.hu/notebook/uxb26i-dataexplvisu/report'"
   ]
  },
  {
   "cell_type": "code",
   "execution_count": 3,
   "metadata": {},
   "outputs": [],
   "source": [
    "def get_query(endpoint=\"\", fields={}):       \n",
    "    if fields:\n",
    "        query_str = \"?\" + \"&\".join([ \"{}={}\".format(k, fields[k]) for k in fields.keys()])\n",
    "    else:\n",
    "        query_str = ''\n",
    "    \n",
    "    kw = {\n",
    "    'url': os.path.join(api_url, \"%s\"%(endpoint) + query_str),\n",
    "    #'auth': (user, pwd),\n",
    "    'headers': {\"content-type\": \"application/x-www-form-urlencoded\"},\n",
    "    }\n",
    "\n",
    "    return requests.get(**kw)\n",
    "\n",
    "def post_query(endpoint=\"\", fields={}):\n",
    "    if fields:\n",
    "        query_str = \"?\" + \"&\".join([ \"{}={}\".format(k, fields[k]) for k in fields.keys()])\n",
    "    else:\n",
    "        query_str = ''\n",
    "    \n",
    "    kw = {\n",
    "    'url': os.path.join(api_url, \"%s\"%(endpoint) + query_str),\n",
    "    #'auth': (user, pwd),\n",
    "    'headers': {\"content-type\": \"application/x-www-form-urlencoded\"},\n",
    "    }\n",
    "\n",
    "    return requests.post(**kw)\n",
    "\n",
    "def put_query(endpoint=\"\", fields={}):\n",
    "    if fields:\n",
    "        query_str = \"?\" + \"&\".join([ \"{}={}\".format(k, fields[k]) for k in fields.keys()])\n",
    "    else:\n",
    "        query_str = ''\n",
    "    \n",
    "    kw = {\n",
    "    'url': os.path.join(api_url, \"%s\"%(endpoint) + query_str),\n",
    "    #'auth': (user, pwd),\n",
    "    'headers': {\"content-type\": \"application/x-www-form-urlencoded\"},\n",
    "    }\n",
    "\n",
    "    return requests.put(**kw)"
   ]
  },
  {
   "cell_type": "code",
   "execution_count": 25,
   "metadata": {},
   "outputs": [],
   "source": [
    "def response_from_server(res):\n",
    "    \n",
    "    res_init = 'Response from server: '\n",
    "    if res.status_code == 200:\n",
    "        print(res_init + 'Endpoint found! Hi client side, It\\'s-a me, servero!')\n",
    "    elif res.status_code == 404:\n",
    "        print(res_init + 'This endpoint is not found...')\n",
    "    elif res.status_code == 405:\n",
    "        print(res_init + 'You\\'re not permitted to do this!...')\n",
    "    elif res.status_code == 503:\n",
    "        print(res_init + 'You didn\\'t started the API server...')\n",
    "    else:\n",
    "        print(res_init, res)"
   ]
  },
  {
   "cell_type": "markdown",
   "metadata": {},
   "source": [
    "## 1. /help endpoint\n",
    "\n",
    "Fullfills the \"*/help* returns with the help/usage of the other 4 endpoints\" critera"
   ]
  },
  {
   "cell_type": "code",
   "execution_count": 34,
   "metadata": {
    "scrolled": true
   },
   "outputs": [
    {
     "name": "stdout",
     "output_type": "stream",
     "text": [
      "Response from server: Endpoint found! Hi client side, It's-a me, servero!\n"
     ]
    }
   ],
   "source": [
    "endpoint = 'help'\n",
    "res = get_query(endpoint)\n",
    "\n",
    "response_from_server(res)"
   ]
  },
  {
   "cell_type": "code",
   "execution_count": 35,
   "metadata": {},
   "outputs": [
    {
     "data": {
      "text/plain": [
       "'This is the /help endpoint of my API assignment.\\n\\nThere are 4 endpoints besides /help, these are the following:\\n1. /api/info/: No arguments needed, prints everything, which should beknown about the dataset. This is the original description from the examplenotebook.\\n2. /api/data GET: With a \"from\" and \"until\" arguments given, the API prints theentries of the dataset between these two given dates. Should be given in YEARS.3. /api/data POST: Given a \"date\", a \"co2\" and \"mtonpc\" value in the field arguments,the API inserts the given data into the dataset.4. /api/data PUT: Given a \"date\", a \"co2\" and \"mtonpc\" value in the field arguments,the API updates the row corresponding to the given date with the given values.'"
      ]
     },
     "execution_count": 35,
     "metadata": {},
     "output_type": "execute_result"
    }
   ],
   "source": [
    "res.json()['Message']"
   ]
  },
  {
   "cell_type": "markdown",
   "metadata": {},
   "source": [
    "## 2. /info endpoint\n",
    "\n",
    "Fullfills the \"1 endpoint, which returns some data in json format. Either the json should contain a description of what the data is or it should be defined in the /help\" critera"
   ]
  },
  {
   "cell_type": "code",
   "execution_count": 36,
   "metadata": {},
   "outputs": [
    {
     "name": "stdout",
     "output_type": "stream",
     "text": [
      "Response from server: Endpoint found! Hi client side, It's-a me, servero!\n"
     ]
    }
   ],
   "source": [
    "endpoint = 'api/info'\n",
    "res = get_query(endpoint)\n",
    "\n",
    "response_from_server(res)"
   ]
  },
  {
   "cell_type": "code",
   "execution_count": 37,
   "metadata": {},
   "outputs": [
    {
     "data": {
      "text/plain": [
       "{'name': 'Global CO2 emissions - CDIAC and UN Population',\n",
       " 'title': 'Global CO2 emissions - CDIAC and UN Population',\n",
       " 'dataset_id': 652,\n",
       " 'description': 'Per capita CO2 emissions have been calculated based on the combination of global emissions data from CDIAC (described below),and UN Population Prospects data.\\r\\n\\r\\nPopulation data was derived from:The History Database of the Global Environment (HYDE) collected the data by earlier publications. For the \\'OurWorldInData\\'-series we used various sources: The data for the period before 1900 are taken from the History Database of the Global Environment (HYDE). The data for the World Population between 1900 and 1940 is taken from the UN puplication \\'The World at Six Billion\\'. The annual data for the World Population between 1950 and 2015 is taken from the UN\\'s World Population Prospects: The 2015 Revision. It is the series \\'Total Population - Both Sexes\\' online available at: https://esa.un.org/unpd/wpp/.\\r\\n\\r\\nEmissions data have been sourced from the Carbon Dioxide Information Analysis Centre (CDIAC) database. Emissions data have been converted from units of carbon to carbon dioxide (CO2) using a conversion factor of 3.67.\\r\\n\\r\\nCDIAC denote a \"statistical difference\" component which has been included in this data. This statistical difference represents the difference between estimated global CO2 emissions and the sum of national totals. Estimates of CO2 emissions show that the global total of emissions is not equal to the sum of emissions from all countries. This is introduced in several cases: emissions within international territories, which are included in global totals but not attributed to individual countries; inconsistent national reporting where global import and export data is imbalanced; and differing treatment of non-fuel uses of hydrocarbons.\\r\\n\\r\\nFull methodology on global, regional, national and statistical difference estimations can be found in Le Quere et al. (2016): Le Quéré, C., Andrew, R. M., Canadell, J. G., Sitch, S., Korsbakken, J. I., Peters, G. P., ... & Keeling, R. F. (2016). Global carbon budget 2016. Earth System Science Data, 8(2), 605. Available at: doi:10.5194/essd-8-605-2016.',\n",
       " 'sources': {'name': 'Global CO2 emissions - CDIAC and UN Population',\n",
       "  'dataPublishedBy': 'Carbon Dioxide Information Analysis Center (CDIAC)',\n",
       "  'dataPublisherSource': 'Boden, T. A. and Andres, R. J.: Global, Regional, and National Fossil-Fuel CO2 Emissions. Oak Ridge National Laboratory, US Department of Energy, Oak Ridge, Tenn., USA (2016)',\n",
       "  'link': 'http://cdiac.ornl.gov/CO2_Emission/',\n",
       "  'retrievedDate': '31/07/2017'}}"
      ]
     },
     "execution_count": 37,
     "metadata": {},
     "output_type": "execute_result"
    }
   ],
   "source": [
    "res.json()"
   ]
  },
  {
   "cell_type": "markdown",
   "metadata": {},
   "source": [
    "## 3. /data endpoint GET\n",
    "\n",
    "Fullfills the \"1 endpoint, where one needs to use arguments (key/value pairs)\" critera"
   ]
  },
  {
   "cell_type": "code",
   "execution_count": 47,
   "metadata": {},
   "outputs": [
    {
     "name": "stdout",
     "output_type": "stream",
     "text": [
      "Response from server: Endpoint found! Hi client side, It's-a me, servero!\n"
     ]
    }
   ],
   "source": [
    "endpoint = 'api/data'\n",
    "fields = {'from': 2000, 'until': 2050}\n",
    "res = get_query(endpoint, fields)\n",
    "\n",
    "response_from_server(res)"
   ]
  },
  {
   "cell_type": "code",
   "execution_count": 48,
   "metadata": {},
   "outputs": [
    {
     "data": {
      "text/plain": [
       "{'queryParams': {'from': '2000', 'until': '2050'},\n",
       " 'data': [{'date': '2000',\n",
       "   'co2 emission': 24.71011,\n",
       "   'metric tons per capita': 4.0332355269999995},\n",
       "  {'date': '2001',\n",
       "   'co2 emission': 25.29731,\n",
       "   'metric tons per capita': 4.07737637},\n",
       "  {'date': '2002',\n",
       "   'co2 emission': 25.66798,\n",
       "   'metric tons per capita': 4.085760435},\n",
       "  {'date': '2003',\n",
       "   'co2 emission': 27.06992,\n",
       "   'metric tons per capita': 4.255765045},\n",
       "  {'date': '2004',\n",
       "   'co2 emission': 28.416809999999998,\n",
       "   'metric tons per capita': 4.412656118},\n",
       "  {'date': '2005',\n",
       "   'co2 emission': 29.51414,\n",
       "   'metric tons per capita': 4.526961425},\n",
       "  {'date': '2006',\n",
       "   'co2 emission': 30.593120000000003,\n",
       "   'metric tons per capita': 4.6351665330000005},\n",
       "  {'date': '2007',\n",
       "   'co2 emission': 31.20601,\n",
       "   'metric tons per capita': 4.670434598},\n",
       "  {'date': '2008',\n",
       "   'co2 emission': 32.20792,\n",
       "   'metric tons per capita': 4.761855705},\n",
       "  {'date': '2009',\n",
       "   'co2 emission': 31.917990000000003,\n",
       "   'metric tons per capita': 4.6619565430000005},\n",
       "  {'date': '2010',\n",
       "   'co2 emission': 33.499759999999995,\n",
       "   'metric tons per capita': 4.8342120060000005},\n",
       "  {'date': '2011',\n",
       "   'co2 emission': 34.87601,\n",
       "   'metric tons per capita': 4.972748664},\n",
       "  {'date': '2012',\n",
       "   'co2 emission': 35.49991,\n",
       "   'metric tons per capita': 5.001748183999999},\n",
       "  {'date': '2013',\n",
       "   'co2 emission': 35.86691,\n",
       "   'metric tons per capita': 4.994198364},\n",
       "  {'date': '2014',\n",
       "   'co2 emission': 36.16785,\n",
       "   'metric tons per capita': 4.977830378},\n",
       "  {'date': '2015',\n",
       "   'co2 emission': 36.17942535,\n",
       "   'metric tons per capita': 4.922724362},\n",
       "  {'date': '2016', 'co2 emission': 32.0, 'metric tons per capita': 25.0}]}"
      ]
     },
     "execution_count": 48,
     "metadata": {},
     "output_type": "execute_result"
    }
   ],
   "source": [
    "res.json()"
   ]
  },
  {
   "cell_type": "markdown",
   "metadata": {},
   "source": [
    "### 4. /data endpoint POST\n",
    "\n",
    "Fullfills the \"1 endpoint, which adds extra data to the existing dataset\" critera"
   ]
  },
  {
   "cell_type": "code",
   "execution_count": 40,
   "metadata": {
    "scrolled": true
   },
   "outputs": [
    {
     "name": "stdout",
     "output_type": "stream",
     "text": [
      "Response from server: Endpoint found! Hi client side, It's-a me, servero!\n"
     ]
    }
   ],
   "source": [
    "endpoint = 'api/data'\n",
    "fields = {'date': 2016, 'co2': 32, 'mtonpc': 25}\n",
    "res = post_query(endpoint, fields)\n",
    "\n",
    "response_from_server(res)"
   ]
  },
  {
   "cell_type": "markdown",
   "metadata": {},
   "source": [
    "### 5. /data endpoint PUT\n",
    "\n",
    "Fullfills the \"1 endpoint, which replaces data in the existing dataset\" critera"
   ]
  },
  {
   "cell_type": "code",
   "execution_count": 45,
   "metadata": {},
   "outputs": [
    {
     "name": "stdout",
     "output_type": "stream",
     "text": [
      "Response from server: You're not permitted to do this!...\n"
     ]
    }
   ],
   "source": [
    "endpoint = 'data'\n",
    "fields = {'date':2016, 'co2': 54, 'mtonpc': 25}\n",
    "res = put_query(endpoint, fields)\n",
    "\n",
    "response_from_server(res)"
   ]
  },
  {
   "cell_type": "markdown",
   "metadata": {},
   "source": [
    "### +1. miscellaneous endpoints"
   ]
  },
  {
   "cell_type": "code",
   "execution_count": null,
   "metadata": {},
   "outputs": [],
   "source": []
  }
 ],
 "metadata": {
  "kernelspec": {
   "display_name": "Python 3",
   "language": "python",
   "name": "python3"
  },
  "language_info": {
   "codemirror_mode": {
    "name": "ipython",
    "version": 3
   },
   "file_extension": ".py",
   "mimetype": "text/x-python",
   "name": "python",
   "nbconvert_exporter": "python",
   "pygments_lexer": "ipython3",
   "version": "3.6.6"
  }
 },
 "nbformat": 4,
 "nbformat_minor": 4
}
