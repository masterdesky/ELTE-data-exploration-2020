{
 "cells": [
  {
   "cell_type": "markdown",
   "metadata": {},
   "source": [
    "# Create an API and a Client -- Client side\n",
    "## Create an API and a Client\n",
    "\n",
    "Create an API with 5 endpoints:\n",
    "* */help* returns with the help/usage of the other 4 endpoints\n",
    "* 1 endpoint, where one needs to use arguments (key/value pairs)\n",
    "* 1 endpoint, which returns some data in json format. Either the json should contain a description of what the data is or it should be defined in the /help\n",
    "* 1 endpoint, which adds extra data to the existing dataset\n",
    "* 1 endpoint, which replaces data in the existing dataset\n",
    "\n",
    "The Client should request data from the server and create a table or plot from it.\n",
    "\n",
    "You can use any dataset for this task. \n",
    "E.g. `/home/course/Datasets/owld-datasets/datasets`\n",
    "\n",
    "You have to prepare for errors or for non-valid queries and need to notify the client about the source of the error!"
   ]
  },
  {
   "cell_type": "code",
   "execution_count": null,
   "metadata": {},
   "outputs": [],
   "source": [
    "import requests, os"
   ]
  },
  {
   "cell_type": "code",
   "execution_count": null,
   "metadata": {},
   "outputs": [],
   "source": [
    "api_url = 'https://kooplex-edu.elte.hu/notebook/uxb26i-dataexplvisu/report'"
   ]
  },
  {
   "cell_type": "code",
   "execution_count": null,
   "metadata": {},
   "outputs": [],
   "source": [
    "def get_query(endpoint=\"\", fields={}):       \n",
    "    if fields:\n",
    "        query_str = \"?\" + \"&\".join([ \"{}={}\".format(k, fields[k]) for k in fields.keys()])\n",
    "    else:\n",
    "        query_str = ''\n",
    "    \n",
    "    kw = {\n",
    "    'url': os.path.join(api_url, \"%s\"%(endpoint) + query_str),\n",
    "    #'auth': (user, pwd),\n",
    "    'headers': {\"content-type\": \"application/x-www-form-urlencoded\"},\n",
    "    }\n",
    "\n",
    "    return requests.get(**kw)\n",
    "\n",
    "def post_query(endpoint=\"\", fields={}):\n",
    "    if fields:\n",
    "        query_str = \"?\" + \"&\".join([ \"{}={}\".format(k, fields[k]) for k in fields.keys()])\n",
    "    else:\n",
    "        query_str = ''\n",
    "    \n",
    "    kw = {\n",
    "    'url': os.path.join(api_url, \"%s\"%(endpoint) + query_str),\n",
    "    #'auth': (user, pwd),\n",
    "    'headers': {\"content-type\": \"application/x-www-form-urlencoded\"},\n",
    "    }\n",
    "\n",
    "    return requests.post(**kw)\n",
    "\n",
    "def put_query(endpoint=\"\", fields={}):\n",
    "    if fields:\n",
    "        query_str = \"?\" + \"&\".join([ \"{}={}\".format(k, fields[k]) for k in fields.keys()])\n",
    "    else:\n",
    "        query_str = ''\n",
    "    \n",
    "    kw = {\n",
    "    'url': os.path.join(api_url, \"%s\"%(endpoint) + query_str),\n",
    "    #'auth': (user, pwd),\n",
    "    'headers': {\"content-type\": \"application/x-www-form-urlencoded\"},\n",
    "    }\n",
    "\n",
    "    return requests.put(**kw)"
   ]
  },
  {
   "cell_type": "code",
   "execution_count": null,
   "metadata": {},
   "outputs": [],
   "source": [
    "def response_from_server(res):\n",
    "    \n",
    "    res_init = 'Response from server: '\n",
    "    if res.status_code == 200:\n",
    "        print(res_init + 'Endpoint found! Hi client side, It\\'s-a me, servero!')\n",
    "    elif res.status_code == 404:\n",
    "        print(res_init + 'This endpoint is not found...')\n",
    "    elif res.status_code == 405:\n",
    "        print(res_init + 'You\\'re not permitted to do this!...')\n",
    "    elif res.status_code == 503:\n",
    "        print(res_init + 'You didn\\'t started the API server...')\n",
    "    else:\n",
    "        print(res_init, res)"
   ]
  },
  {
   "cell_type": "markdown",
   "metadata": {},
   "source": [
    "## 1. /help endpoint\n",
    "\n",
    "Fullfills the \"*/help* returns with the help/usage of the other 4 endpoints\" critera"
   ]
  },
  {
   "cell_type": "code",
   "execution_count": null,
   "metadata": {
    "scrolled": true
   },
   "outputs": [],
   "source": [
    "endpoint = 'help'\n",
    "res = get_query(endpoint)\n",
    "\n",
    "response_from_server(res)"
   ]
  },
  {
   "cell_type": "code",
   "execution_count": null,
   "metadata": {},
   "outputs": [],
   "source": [
    "res.json()['Message']"
   ]
  },
  {
   "cell_type": "markdown",
   "metadata": {},
   "source": [
    "## 2. /info endpoint\n",
    "\n",
    "Fullfills the \"1 endpoint, which returns some data in json format. Either the json should contain a description of what the data is or it should be defined in the /help\" critera"
   ]
  },
  {
   "cell_type": "code",
   "execution_count": null,
   "metadata": {},
   "outputs": [],
   "source": [
    "endpoint = 'api/info'\n",
    "res = get_query(endpoint)\n",
    "\n",
    "response_from_server(res)"
   ]
  },
  {
   "cell_type": "code",
   "execution_count": null,
   "metadata": {},
   "outputs": [],
   "source": [
    "res.json()"
   ]
  },
  {
   "cell_type": "markdown",
   "metadata": {},
   "source": [
    "## 3. /data endpoint GET\n",
    "\n",
    "Fullfills the \"1 endpoint, where one needs to use arguments (key/value pairs)\" critera"
   ]
  },
  {
   "cell_type": "code",
   "execution_count": null,
   "metadata": {},
   "outputs": [],
   "source": [
    "endpoint = 'api/data'\n",
    "fields = {'from': 2000, 'until': 2050}\n",
    "res = get_query(endpoint, fields)\n",
    "\n",
    "response_from_server(res)"
   ]
  },
  {
   "cell_type": "code",
   "execution_count": null,
   "metadata": {},
   "outputs": [],
   "source": [
    "res.json()"
   ]
  },
  {
   "cell_type": "markdown",
   "metadata": {},
   "source": [
    "### 4. /data endpoint POST\n",
    "\n",
    "Fullfills the \"1 endpoint, which adds extra data to the existing dataset\" critera"
   ]
  },
  {
   "cell_type": "code",
   "execution_count": null,
   "metadata": {
    "scrolled": true
   },
   "outputs": [],
   "source": [
    "endpoint = 'api/data'\n",
    "fields = {'date': 2016, 'co2': 32, 'mtonpc': 25}\n",
    "res = post_query(endpoint, fields)\n",
    "\n",
    "response_from_server(res)"
   ]
  },
  {
   "cell_type": "markdown",
   "metadata": {},
   "source": [
    "### 5. /data endpoint PUT\n",
    "\n",
    "Fullfills the \"1 endpoint, which replaces data in the existing dataset\" critera"
   ]
  },
  {
   "cell_type": "code",
   "execution_count": null,
   "metadata": {},
   "outputs": [],
   "source": [
    "endpoint = 'data'\n",
    "fields = {'date':2016, 'co2': 54, 'mtonpc': 25}\n",
    "res = put_query(endpoint, fields)\n",
    "\n",
    "response_from_server(res)"
   ]
  },
  {
   "cell_type": "markdown",
   "metadata": {},
   "source": [
    "### +1. miscellaneous endpoints"
   ]
  },
  {
   "cell_type": "code",
   "execution_count": null,
   "metadata": {},
   "outputs": [],
   "source": []
  }
 ],
 "metadata": {
  "kernelspec": {
   "display_name": "Python 3 (ipykernel)",
   "language": "python",
   "name": "python3"
  },
  "language_info": {
   "codemirror_mode": {
    "name": "ipython",
    "version": 3
   },
   "file_extension": ".py",
   "mimetype": "text/x-python",
   "name": "python",
   "nbconvert_exporter": "python",
   "pygments_lexer": "ipython3",
   "version": "3.9.10"
  }
 },
 "nbformat": 4,
 "nbformat_minor": 4
}
