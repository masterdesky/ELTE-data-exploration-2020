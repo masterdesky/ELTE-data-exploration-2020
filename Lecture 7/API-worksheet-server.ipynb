{
 "cells": [
  {
   "cell_type": "markdown",
   "metadata": {},
   "source": [
    "# Create an API and a Client -- Server side\n",
    "## Create an API and a Client\n",
    "\n",
    "Create an API with 5 endpoints:\n",
    "* */help* returns with the help/usage of the other 4 endpoints\n",
    "* 1 endpoint, where one needs to use arguments (key/value pairs)\n",
    "* 1 endpoint, which returns some data in json format. Either the json should contain a description of what the data is or it should be defined in the /help\n",
    "* 1 endpoint, which adds extra data to the existing dataset\n",
    "* 1 endpoint, which replaces data in the existing dataset\n",
    "\n",
    "The Client should request data from the server and create a table or plot from it.\n",
    "\n",
    "You can use any dataset for this task. \n",
    "E.g. `/home/course/Datasets/owld-datasets/datasets`\n",
    "\n",
    "You have to prepare for errors or for non-valid queries and need to notify the client about the source of the error!"
   ]
  },
  {
   "cell_type": "markdown",
   "metadata": {},
   "source": [
    "## How to run this service\n",
    "\n",
    "* Launch a terminal and enter into the directory, that contains this notebook\n",
    "* then type\n",
    "```\n",
    "preview-nb-api.sh API-worksheet.ipynb \n",
    "```\n",
    "* the first line of output will tell you the URL of the API"
   ]
  },
  {
   "cell_type": "code",
   "execution_count": 1,
   "metadata": {},
   "outputs": [],
   "source": [
    "import json\n",
    "import base64\n",
    "import pandas as pd"
   ]
  },
  {
   "cell_type": "markdown",
   "metadata": {},
   "source": [
    "Using the provided dataset in this directory"
   ]
  },
  {
   "cell_type": "code",
   "execution_count": 126,
   "metadata": {},
   "outputs": [],
   "source": [
    "fname = 'GlobalCO2emissions.csv'\n",
    "df = pd.read_csv(fname, parse_dates=[1])\n",
    "\n",
    "# Prividing shorter column names\n",
    "co2 = 'CO2 emissions (CDIAC and UN Population)'\n",
    "mtonpc = 'Per capita CO2 emissions (CDIAC and UN Population)'"
   ]
  },
  {
   "cell_type": "markdown",
   "metadata": {},
   "source": [
    "## API\n",
    "\n",
    "We need to define a global `REQUEST` JSON string that will be replaced on each invocation of the API. We only care about path parameters and query string arguments, so we default those to blank here."
   ]
  },
  {
   "cell_type": "code",
   "execution_count": 20,
   "metadata": {},
   "outputs": [],
   "source": [
    "REQUEST = json.dumps({\n",
    "    'path' : {},\n",
    "    'args' : {}\n",
    "})"
   ]
  },
  {
   "cell_type": "markdown",
   "metadata": {},
   "source": [
    "## Endpoints\n",
    "\n",
    "I've reworked the notebook of the example server. Changed the data handling, arguments and more in the original API. There were several problems with the provided code, which had to be corrected, to at least function in any way."
   ]
  },
  {
   "cell_type": "markdown",
   "metadata": {},
   "source": [
    "### 1. /help\n",
    "\n",
    "Fullfills the \"*/help* returns with the help/usage of the other 4 endpoints\" critera"
   ]
  },
  {
   "cell_type": "code",
   "execution_count": 111,
   "metadata": {
    "jupyter": {
     "outputs_hidden": true
    }
   },
   "outputs": [
    {
     "name": "stdout",
     "output_type": "stream",
     "text": [
      "{\"Message\": \"This is the /help endpoint of my API assignment.\\n\\nThere are 4 endpoints besides /help, these are the following:\\n1. /api/info/: No arguments needed, prints everything, which should beknown about the dataset. This is the original description from the examplenotebook.\\n2. /api/data GET: With a \\\"from\\\" and \\\"until\\\" arguments given, the API prints theentries of the dataset between these two given dates. Should be given in YEARS.3. /api/data POST: Given a \\\"date\\\", a \\\"co2\\\" and \\\"mtonpc\\\" value in the field arguments,the API inserts the given data into the dataset.4. /api/data PUT: Given a \\\"date\\\", a \\\"co2\\\" and \\\"mtonpc\\\" value in the field arguments,the API updates the row corresponding to the given date with the given values.\"}\n"
     ]
    }
   ],
   "source": [
    "# GET /help\n",
    "req = json.loads(REQUEST)\n",
    "args = req['args']\n",
    "\n",
    "response = {'Message': ('This is the /help endpoint of my API assignment.\\n\\n' +\n",
    "                        'There are 4 endpoints besides /help, these are the following:\\n' +\n",
    "                        '1. /api/info/: No arguments needed, prints everything, which should be' +\n",
    "                        'known about the dataset. This is the original description from the example' +\n",
    "                        'notebook.\\n' +\n",
    "                        '2. /api/data GET: With a \"from\" and \"until\" arguments given, the API prints the' +\n",
    "                        'entries of the dataset between these two given dates. Should be given in YEARS.' +\n",
    "                        '3. /api/data POST: Given a \"date\", a \"co2\" and \"mtonpc\" value in the field arguments,' +\n",
    "                        'the API inserts the given data into the dataset.'\n",
    "                        '4. /api/data PUT: Given a \"date\", a \"co2\" and \"mtonpc\" value in the field arguments,' +\n",
    "                        'the API updates the row corresponding to the given date with the given values.'\n",
    "                       )\n",
    "           } \n",
    "print(json.dumps(response))"
   ]
  },
  {
   "cell_type": "code",
   "execution_count": 27,
   "metadata": {},
   "outputs": [
    {
     "name": "stdout",
     "output_type": "stream",
     "text": [
      "{\"headers\": {\"Content-Type\": \"text\"}, \"status\": 200}\n"
     ]
    }
   ],
   "source": [
    "# ResponseInfo GET /help\n",
    "print(json.dumps({\n",
    "    \"headers\" : {\n",
    "        \"Content-Type\" : \"text\"\n",
    "    },\n",
    "    \"status\" : 200\n",
    "}))"
   ]
  },
  {
   "cell_type": "markdown",
   "metadata": {},
   "source": [
    "### 2. /api/info\n",
    "\n",
    "Fullfills the \"1 endpoint, which returns some data in json format. Either the json should contain a description of what the data is or it should be defined in the /help\" critera.\n",
    "\n",
    "Using the description and template inside the example server notebook."
   ]
  },
  {
   "cell_type": "code",
   "execution_count": 31,
   "metadata": {},
   "outputs": [
    {
     "name": "stdout",
     "output_type": "stream",
     "text": [
      "{\"name\": \"Global CO2 emissions - CDIAC and UN Population\", \"title\": \"Global CO2 emissions - CDIAC and UN Population\", \"dataset_id\": 652, \"description\": \"Per capita CO2 emissions have been calculated based on the combination of global emissions data from CDIAC (described below),and UN Population Prospects data.\\r\\n\\r\\nPopulation data was derived from:The History Database of the Global Environment (HYDE) collected the data by earlier publications. For the 'OurWorldInData'-series we used various sources: The data for the period before 1900 are taken from the History Database of the Global Environment (HYDE). The data for the World Population between 1900 and 1940 is taken from the UN puplication 'The World at Six Billion'. The annual data for the World Population between 1950 and 2015 is taken from the UN's World Population Prospects: The 2015 Revision. It is the series 'Total Population - Both Sexes' online available at: https://esa.un.org/unpd/wpp/.\\r\\n\\r\\nEmissions data have been sourced from the Carbon Dioxide Information Analysis Centre (CDIAC) database. Emissions data have been converted from units of carbon to carbon dioxide (CO2) using a conversion factor of 3.67.\\r\\n\\r\\nCDIAC denote a \\\"statistical difference\\\" component which has been included in this data. This statistical difference represents the difference between estimated global CO2 emissions and the sum of national totals. Estimates of CO2 emissions show that the global total of emissions is not equal to the sum of emissions from all countries. This is introduced in several cases: emissions within international territories, which are included in global totals but not attributed to individual countries; inconsistent national reporting where global import and export data is imbalanced; and differing treatment of non-fuel uses of hydrocarbons.\\r\\n\\r\\nFull methodology on global, regional, national and statistical difference estimations can be found in Le Quere et al. (2016): Le Qu\\u00e9r\\u00e9, C., Andrew, R. M., Canadell, J. G., Sitch, S., Korsbakken, J. I., Peters, G. P., ... & Keeling, R. F. (2016). Global carbon budget 2016. Earth System Science Data, 8(2), 605. Available at: doi:10.5194/essd-8-605-2016.\", \"sources\": {\"name\": \"Global CO2 emissions - CDIAC and UN Population\", \"dataPublishedBy\": \"Carbon Dioxide Information Analysis Center (CDIAC)\", \"dataPublisherSource\": \"Boden, T. A. and Andres, R. J.: Global, Regional, and National Fossil-Fuel CO2 Emissions. Oak Ridge National Laboratory, US Department of Energy, Oak Ridge, Tenn., USA (2016)\", \"link\": \"http://cdiac.ornl.gov/CO2_Emission/\", \"retrievedDate\": \"31/07/2017\"}}\n"
     ]
    }
   ],
   "source": [
    "# GET /api/info\n",
    "req = json.loads(REQUEST)\n",
    "args = req['args']\n",
    "\n",
    "response = dict(\n",
    "    name=\"Global CO2 emissions - CDIAC and UN Population\",\n",
    "    title=\"Global CO2 emissions - CDIAC and UN Population\",\n",
    "    dataset_id= 652,\n",
    "    description=(\"Per capita CO2 emissions have been calculated based on \" +\n",
    "                 \"the combination of global emissions data from CDIAC (described below),\" +\n",
    "                 \"and UN Population Prospects data.\\r\\n\\r\\nPopulation data was derived from:\" +\n",
    "                 \"The History Database of the Global Environment (HYDE) collected the data \" +\n",
    "                 \"by earlier publications. For the 'OurWorldInData'-series we used various \" +\n",
    "                 \"sources: The data for the period before 1900 are taken from the \" +\n",
    "                 \"History Database of the Global Environment (HYDE). The data for the \" +\n",
    "                 \"World Population between 1900 and 1940 is taken from the UN puplication \" +\n",
    "                 \"'The World at Six Billion'. The annual data for the World Population between \" +\n",
    "                 \"1950 and 2015 is taken from the UN's World Population Prospects: The 2015 Revision. \" +\n",
    "                 \"It is the series 'Total Population - Both Sexes' online available at: \" +\n",
    "                 \"https://esa.un.org/unpd/wpp/.\\r\\n\\r\\nEmissions data have been sourced from \" +\n",
    "                 \"the Carbon Dioxide Information Analysis Centre (CDIAC) database. Emissions data \" +\n",
    "                 \"have been converted from units of carbon to carbon dioxide (CO2) using a conversion \" +\n",
    "                 \"factor of 3.67.\\r\\n\\r\\nCDIAC denote a \\\"statistical difference\\\" component which has \" +\n",
    "                 \"been included in this data. This statistical difference represents the difference \" +\n",
    "                 \"between estimated global CO2 emissions and the sum of national totals. Estimates of \" +\n",
    "                 \"CO2 emissions show that the global total of emissions is not equal to the sum of \" +\n",
    "                 \"emissions from all countries. This is introduced in several cases: emissions within \" +\n",
    "                 \"international territories, which are included in global totals but not attributed to \" +\n",
    "                 \"individual countries; inconsistent national reporting where global import and export \" +\n",
    "                 \"data is imbalanced; and differing treatment of non-fuel uses of hydrocarbons.\\r\\n\\r\\n\" +\n",
    "                 \"Full methodology on global, regional, national and statistical difference estimations can \" +\n",
    "                 \"be found in Le Quere et al. (2016): Le Quéré, C., Andrew, R. M., Canadell, J. G., Sitch, S., \" +\n",
    "                 \"Korsbakken, J. I., Peters, G. P., ... & Keeling, R. F. (2016). Global carbon budget 2016. \" +\n",
    "                 \"Earth System Science Data, 8(2), 605. Available at: doi:10.5194/essd-8-605-2016.\"),\n",
    "    sources= {\n",
    "      \"name\": \"Global CO2 emissions - CDIAC and UN Population\",\n",
    "      \"dataPublishedBy\": \"Carbon Dioxide Information Analysis Center (CDIAC)\",\n",
    "      \"dataPublisherSource\": (\"Boden, T. A. and Andres, R. J.: \"+\n",
    "                              \"Global, Regional, and National Fossil-Fuel CO2 Emissions. \" +\n",
    "                              \"Oak Ridge National Laboratory, US Department of Energy, Oak Ridge, Tenn., USA (2016)\"),\n",
    "      \"link\": \"http://cdiac.ornl.gov/CO2_Emission/\",\n",
    "      \"retrievedDate\": \"31/07/2017\"\n",
    "    }\n",
    ")\n",
    "\n",
    "print(json.dumps(response))"
   ]
  },
  {
   "cell_type": "code",
   "execution_count": 19,
   "metadata": {},
   "outputs": [
    {
     "name": "stdout",
     "output_type": "stream",
     "text": [
      "{\"headers\": {\"Content-Type\": \"application/json\"}, \"status\": 200}\n"
     ]
    }
   ],
   "source": [
    "# ResponseInfo GET /api/info\n",
    "print(json.dumps({\n",
    "    \"headers\" : {\n",
    "        \"Content-Type\" : \"application/json\"\n",
    "    },\n",
    "    \"status\" : 200\n",
    "}))"
   ]
  },
  {
   "cell_type": "markdown",
   "metadata": {},
   "source": [
    "### 3. /api/data GET\n",
    "\n",
    "Fullfills the \"1 endpoint, where one needs to use arguments (key/value pairs)\" critera"
   ]
  },
  {
   "cell_type": "code",
   "execution_count": 106,
   "metadata": {},
   "outputs": [
    {
     "name": "stdout",
     "output_type": "stream",
     "text": [
      "Missing argument. Expecting both 'from' and 'until'\n"
     ]
    }
   ],
   "source": [
    "# GET /api/data\n",
    "req = json.loads(REQUEST)\n",
    "args = req['args']\n",
    "\n",
    "if not \"from\" in args or not \"until\" in args:\n",
    "    print (\"Missing argument. Expecting both 'from' and 'until'\")\n",
    "else:\n",
    "    date_from = pd.to_datetime(args[\"from\"][0], format=\"%Y\")\n",
    "    date_until = pd.to_datetime(args[\"until\"][0], format=\"%Y\")\n",
    "\n",
    "    if date_from >= date_until:\n",
    "        response = {\"queryParams\" : query_params_dict, \"message\" : \"'from' should be an earlier year than 'until'\"}\n",
    "        print(json.dumps(response))\n",
    "    elif (date_from > df.Year.max()) or (date_until<df.Year.min()):\n",
    "        query_params_dict = {\"from\" : args[\"from\"][0], \"until\" : args[\"until\"][0]}\n",
    "        response = {\n",
    "            \"queryParams\" : query_params_dict,\n",
    "            \"message\" : \"valid range for 'from' and 'until' is between {} and {} \".format(df['Year'].dt.strftime('%Y').min(), \n",
    "                                                                                          df['Year'].dt.strftime('%Y').max())\n",
    "        }\n",
    "        print(json.dumps(response))\n",
    "    else:\n",
    "        rows = df[(df[\"Year\"] >= date_from) &\n",
    "                             (df[\"Year\"] <= date_until)][[\"Year\", co2, mtonpc]].copy()\n",
    "        data_dict = [{\"date\" : date.strftime('%Y'),\n",
    "                      \"co2 emission\" : co2s,\n",
    "                      \"metric tons per capita\" : mtonpcs} for date, co2s, mtonpcs in rows.values ]\n",
    "        query_params_dict = {\"from\" : args[\"from\"][0], \"until\" : args[\"until\"][0]}\n",
    "        response = {\n",
    "            \"queryParams\" : query_params_dict, \n",
    "            \"data\" : data_dict\n",
    "        }\n",
    "        print(json.dumps(response))"
   ]
  },
  {
   "cell_type": "code",
   "execution_count": 32,
   "metadata": {},
   "outputs": [
    {
     "name": "stdout",
     "output_type": "stream",
     "text": [
      "{\"headers\": {\"Content-Type\": \"application/json\"}, \"status\": 200}\n"
     ]
    }
   ],
   "source": [
    "# ResponseInfo GET /api/data\n",
    "print(json.dumps({\n",
    "    \"headers\" : {\n",
    "        \"Content-Type\" : \"application/json\"\n",
    "    },\n",
    "    \"status\" : 200\n",
    "}))"
   ]
  },
  {
   "cell_type": "markdown",
   "metadata": {},
   "source": [
    "### 4. /app/data POST\n",
    "\n",
    "Fullfills the \"1 endpoint, which adds extra data to the existing dataset\" critera"
   ]
  },
  {
   "cell_type": "code",
   "execution_count": 113,
   "metadata": {},
   "outputs": [
    {
     "name": "stdout",
     "output_type": "stream",
     "text": [
      "{\"Error\": \"Missing argument. Expecting 'date', 'co2' and 'mtonpc'\"}\n"
     ]
    }
   ],
   "source": [
    "# POST /api/data\n",
    "req = json.loads(REQUEST)\n",
    "args = req['args']\n",
    "\n",
    "if not \"date\" in args or not \"co2\" in args or not \"mtonpc\" in args:\n",
    "    response = {\n",
    "    \"Error\" : \"Missing argument. Expecting 'date', 'co2' and 'mtonpc'\"\n",
    "    }\n",
    "    print(json.dumps(response))\n",
    "else:\n",
    "    date = args[\"date\"][0]\n",
    "    co2s = float(args[\"co2\"][0])\n",
    "    mtonpcs = float(args[\"mtonpc\"][0])\n",
    "    if(df.Year.dt.strftime(\"%Y\")==date).sum():\n",
    "        response = {\n",
    "            \"Error\" : \"'date' should not be an existing value\"\n",
    "            }\n",
    "        print(json.dumps(response))\n",
    "    else:\n",
    "        new_row = {'Entity': 'World', 'Year': pd.to_datetime(date), co2: co2s, mtonpc: mtonpcs}\n",
    "        df = df.append(new_row, ignore_index=True)\n",
    "        df.to_csv(fname, index=False, index_label=None)\n",
    "        response = {\n",
    "            \"Message\" : \"upload successful\"\n",
    "        }\n",
    "        print(json.dumps(response))"
   ]
  },
  {
   "cell_type": "code",
   "execution_count": 32,
   "metadata": {},
   "outputs": [
    {
     "name": "stdout",
     "output_type": "stream",
     "text": [
      "{\"headers\": {\"Content-Type\": \"application/json\"}, \"status\": 200}\n"
     ]
    }
   ],
   "source": [
    "# ResponseInfo POST /api/data\n",
    "print(json.dumps({\n",
    "    \"headers\" : {\n",
    "        \"Content-Type\" : \"application/json\"\n",
    "    },\n",
    "    \"status\" : 200\n",
    "}))"
   ]
  },
  {
   "cell_type": "markdown",
   "metadata": {},
   "source": [
    "### 5. PUT /app/data\n",
    "\n",
    "Fullfills the \"1 endpoint, which replaces data in the existing dataset\" critera"
   ]
  },
  {
   "cell_type": "code",
   "execution_count": 112,
   "metadata": {},
   "outputs": [
    {
     "name": "stdout",
     "output_type": "stream",
     "text": [
      "{\"Error\": \"Missing argument. Expecting 'date', 'co2' and 'mtonpc'\"}\n"
     ]
    }
   ],
   "source": [
    "# PUT /api/data\n",
    "req = json.loads(REQUEST)\n",
    "args = req['args']\n",
    "\n",
    "if not \"date\" in args or not \"co2\" in args or not \"mtonpc\" in args:\n",
    "    response = {\n",
    "    \"Error\" : \"Missing argument. Expecting 'date', 'co2' and 'mtonpc'\"\n",
    "    }\n",
    "    print(json.dumps(response))\n",
    "else:\n",
    "    date = args[\"date\"][0]\n",
    "    co2s = float(args[\"co2\"][0])\n",
    "    mtonpcs = float(args[\"mtonpc\"][0])\n",
    "    if not (df.Year.dt.strftime(\"%Y\")==date).sum():\n",
    "        response = {\n",
    "            \"Error\" : \"'date' should be an existing one\"\n",
    "            }\n",
    "        print(json.dumps(response))\n",
    "    else:\n",
    "        df.loc[df.Year.dt.strftime(\"%Y\")==date, co2] = co2s\n",
    "        df.loc[df.Year.dt.strftime(\"%Y\")==date, mtonpc] = mtonpcs\n",
    "        df.to_csv(fname, index=False, index_label=None)\n",
    "        response = {\n",
    "            \"Message\" : \"upload successful\"\n",
    "        }\n",
    "        print(json.dumps(response))"
   ]
  },
  {
   "cell_type": "markdown",
   "metadata": {},
   "source": [
    "### +1. Using the example code"
   ]
  },
  {
   "cell_type": "code",
   "execution_count": 28,
   "metadata": {},
   "outputs": [
    {
     "name": "stdout",
     "output_type": "stream",
     "text": [
      "{\"Error\": \"This function is not implemented yet\"}\n"
     ]
    }
   ],
   "source": [
    "# GET /api/undef\n",
    "req = json.loads(REQUEST)\n",
    "args = req['args']\n",
    "\n",
    "response = {\n",
    "    \"Error\" : \"This function is not implemented yet\" \n",
    "}\n",
    "print(json.dumps(response))"
   ]
  },
  {
   "cell_type": "code",
   "execution_count": 29,
   "metadata": {},
   "outputs": [
    {
     "name": "stdout",
     "output_type": "stream",
     "text": [
      "You seem lost, try /help\n"
     ]
    }
   ],
   "source": [
    "# GET /:nothingfound\n",
    "\n",
    "print(\"You seem lost, try /help\")"
   ]
  },
  {
   "cell_type": "code",
   "execution_count": 30,
   "metadata": {},
   "outputs": [
    {
     "name": "stdout",
     "output_type": "stream",
     "text": [
      "You seem lost, try /help\n"
     ]
    }
   ],
   "source": [
    "# GET /\n",
    "\n",
    "print(\"You seem lost, try /help\")"
   ]
  },
  {
   "cell_type": "code",
   "execution_count": null,
   "metadata": {},
   "outputs": [],
   "source": []
  }
 ],
 "metadata": {
  "kernelspec": {
   "display_name": "Python 3",
   "language": "python",
   "name": "python3"
  },
  "language_info": {
   "codemirror_mode": {
    "name": "ipython",
    "version": 3
   },
   "file_extension": ".py",
   "mimetype": "text/x-python",
   "name": "python",
   "nbconvert_exporter": "python",
   "pygments_lexer": "ipython3",
   "version": "3.6.6"
  }
 },
 "nbformat": 4,
 "nbformat_minor": 4
}
