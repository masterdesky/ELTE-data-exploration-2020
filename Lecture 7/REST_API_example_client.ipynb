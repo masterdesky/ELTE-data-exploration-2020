{
 "cells": [
  {
   "cell_type": "code",
   "execution_count": null,
   "metadata": {},
   "outputs": [],
   "source": [
    "import requests, os"
   ]
  },
  {
   "cell_type": "code",
   "execution_count": null,
   "metadata": {},
   "outputs": [],
   "source": [
    "def get_query(endpoint=\"\", fields={}):\n",
    "    api_url = 'https://kooplex-fiek.elte.hu/notebook/wfct0p-rere-wfct0p/report/api/'\n",
    "    if fields:\n",
    "        query_str = \"?\" + \"&\".join([ \"{}={}\".format(k, fields[k]) for k in fields.keys()])\n",
    "        \n",
    "    kw = {\n",
    "    'url': os.path.join(api_url, \"%s\"%(endpoint) + query_str),\n",
    "    #'auth': (user, pwd),\n",
    "    'headers': {\"content-type\": \"application/x-www-form-urlencoded\"},\n",
    "    }\n",
    "\n",
    "    return requests.get(**kw)\n",
    "\n",
    "def post_query(endpoint=\"\", fields={}):\n",
    "    api_url = 'https://kooplex-fiek.elte.hu/notebook/wfct0p-rere-wfct0p/report/api/'\n",
    "    if fields:\n",
    "        query_str = \"?\" + \"&\".join([ \"{}={}\".format(k, fields[k]) for k in fields.keys()])\n",
    "        \n",
    "    kw = {\n",
    "    'url': os.path.join(api_url, \"%s\"%(endpoint) + query_str),\n",
    "    #'auth': (user, pwd),\n",
    "    'headers': {\"content-type\": \"application/x-www-form-urlencoded\"},\n",
    "    }\n",
    "\n",
    "    return requests.post(**kw)"
   ]
  },
  {
   "cell_type": "code",
   "execution_count": null,
   "metadata": {},
   "outputs": [],
   "source": [
    "endpoint = \"data\"\n",
    "fields = {\"from\":1920, \"until\":1930}\n",
    "res = get_query(endpoint, fields)"
   ]
  },
  {
   "cell_type": "code",
   "execution_count": null,
   "metadata": {},
   "outputs": [],
   "source": [
    "res"
   ]
  },
  {
   "cell_type": "code",
   "execution_count": null,
   "metadata": {},
   "outputs": [],
   "source": [
    "res.json()"
   ]
  },
  {
   "cell_type": "code",
   "execution_count": null,
   "metadata": {},
   "outputs": [],
   "source": [
    "res.json()['data']"
   ]
  },
  {
   "cell_type": "code",
   "execution_count": null,
   "metadata": {},
   "outputs": [],
   "source": [
    "endpoint = \"data\"\n",
    "fields = {\"date\":2016, \"value\":2.5}\n",
    "res = post_query(endpoint, fields)\n",
    "print(res)\n",
    "print(res.text)"
   ]
  },
  {
   "cell_type": "code",
   "execution_count": null,
   "metadata": {},
   "outputs": [],
   "source": [
    "endpoint = \"data\"\n",
    "fields = {\"from\":2014, \"until\":2017}\n",
    "res = get_query(endpoint, fields)\n",
    "print(res.json()['data'])"
   ]
  },
  {
   "cell_type": "code",
   "execution_count": null,
   "metadata": {},
   "outputs": [],
   "source": []
  }
 ],
 "metadata": {
  "kernelspec": {
   "display_name": "Python 3 (ipykernel)",
   "language": "python",
   "name": "python3"
  },
  "language_info": {
   "codemirror_mode": {
    "name": "ipython",
    "version": 3
   },
   "file_extension": ".py",
   "mimetype": "text/x-python",
   "name": "python",
   "nbconvert_exporter": "python",
   "pygments_lexer": "ipython3",
   "version": "3.9.10"
  }
 },
 "nbformat": 4,
 "nbformat_minor": 4
}
